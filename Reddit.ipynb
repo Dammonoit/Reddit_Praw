{
 "cells": [
  {
   "cell_type": "code",
   "execution_count": 30,
   "metadata": {
    "collapsed": true
   },
   "outputs": [],
   "source": [
    "import pandas as pd;\n",
    "import numpy as np;\n",
    "import csv;\n",
    "import praw;"
   ]
  },
  {
   "cell_type": "code",
   "execution_count": 31,
   "metadata": {},
   "outputs": [
    {
     "name": "stdout",
     "output_type": "stream",
     "text": [
      "9o5w2z\n"
     ]
    }
   ],
   "source": [
    "reddit=praw.Reddit(client_id='tdgoDZk4NPV_ig',client_secret='3y_Tf1vTlHBSYllgdG_6Om-eIYE',username='dharmendrac',password='Dharmu@1996',user_agent='putin')\n",
    "subreddit = reddit.subreddit('python')\n",
    "hot_python = subreddit.hot()\n",
    "hot_python = subreddit.hot(limit=1)\n",
    "for submission in hot_python:\n",
    "    print(submission)"
   ]
  },
  {
   "cell_type": "code",
   "execution_count": 54,
   "metadata": {},
   "outputs": [
    {
     "name": "stdout",
     "output_type": "stream",
     "text": [
      "9o5w2z\n",
      "9so82g\n",
      "9t3ko5\n",
      "9tbe7o\n",
      "9tb4lj\n",
      "9t94go\n",
      "9tb00f\n",
      "9t8uu4\n",
      "9taolk\n",
      "9t9hm6\n",
      "9tc7hh\n",
      "9t8btp\n",
      "9t9br2\n",
      "9szwo7\n",
      "9tan9y\n",
      "9tact2\n",
      "9tac2e\n",
      "9t7f1l\n",
      "9sxgwr\n",
      "9t9hj9\n",
      "9t7mgm\n",
      "9t7hy3\n",
      "9t683e\n",
      "9t0kkg\n",
      "9t1sk5\n",
      "9t0bfq\n",
      "9t14i9\n",
      "9t271n\n",
      "9t1dqn\n",
      "9t6knw\n",
      "9sw5vk\n",
      "9t86rm\n",
      "9tagy9\n",
      "9t6apw\n",
      "9t68m2\n",
      "9t5psc\n",
      "9t9w0n\n",
      "9t4zkb\n",
      "9t4efj\n",
      "9sy6og\n",
      "9sqvjn\n",
      "9t2715\n",
      "9t3yjp\n",
      "9t1l8k\n",
      "9t2cr2\n",
      "9t08i8\n",
      "9sron5\n",
      "9t14lw\n",
      "9sw767\n",
      "9t0a84\n",
      "9t0325\n",
      "9syyxa\n",
      "9syquk\n",
      "9smgka\n",
      "9sne9h\n",
      "9sqh1y\n",
      "9srd1h\n",
      "9swya5\n",
      "9sowbs\n",
      "9swa7p\n",
      "9sj6xy\n",
      "9svo3k\n",
      "9svjpu\n",
      "9svawh\n",
      "9suvkv\n",
      "9sw018\n",
      "9svy3h\n",
      "9sub1h\n",
      "9sio6t\n",
      "9ssblg\n",
      "9svs1p\n",
      "9stuql\n",
      "9suwsf\n",
      "9slro2\n",
      "9ss97j\n",
      "9ss6r1\n",
      "9srdit\n",
      "9sr7z8\n",
      "9sogs3\n",
      "9sufma\n",
      "9sqh9s\n",
      "9seecj\n",
      "9ssfgt\n",
      "9sluu2\n",
      "9sn0uf\n",
      "9spwfw\n",
      "9sbxjr\n",
      "9scznd\n",
      "9sozlz\n",
      "9sodca\n",
      "9so0cw\n",
      "9sflyg\n",
      "9shoi7\n",
      "9sh24m\n",
      "9sn5le\n",
      "9sf32w\n",
      "9smhq4\n",
      "9sk4l3\n",
      "9s84xg\n",
      "9sdsn3\n",
      "\n",
      "\n",
      "The total number of subredits are:  100\n"
     ]
    }
   ],
   "source": [
    "count=0\n",
    "user_id=[]\n",
    "user_id_count=[]\n",
    "hot_python = subreddit.hot()\n",
    "for submission in hot_python:\n",
    "    print(submission)\n",
    "    user_id.append(submission.id)\n",
    "    count+=1\n",
    "    user_id_count.append(count)\n",
    "print(\"\\n\")\n",
    "print('The total number of subredits are: ',count)"
   ]
  },
  {
   "cell_type": "code",
   "execution_count": null,
   "metadata": {},
   "outputs": [],
   "source": [
    "#now we can find the attributions for every thread i.e the id, ups, downs etc in a particular thread.\n",
    "Title=[]\n",
    "ups=[]\n",
    "downs=[]\n",
    "visited=[]\n",
    "comments=[]\n",
    "hot_python = subreddit.hot()\n",
    "for submission in hot_python:\n",
    "    Title.append(submission.title)\n",
    "    ups.append(submission.ups)\n",
    "    downs.append(submission.downs)\n",
    "    visited.append(submission.visited)\n",
    "    comments.append(submission.comments)"
   ]
  },
  {
   "cell_type": "code",
   "execution_count": null,
   "metadata": {
    "collapsed": true
   },
   "outputs": [],
   "source": []
  },
  {
   "cell_type": "code",
   "execution_count": 55,
   "metadata": {},
   "outputs": [
    {
     "name": "stdout",
     "output_type": "stream",
     "text": [
      "['9o5w2z', '9so82g', '9t3ko5', '9tbe7o']\n",
      "\n",
      "\n",
      "['r/Python official Job Board', \"What's everyone working on this week?\", 'My Halloween Facepaint - Scary huh?', \"Saleor GraphQL-first Headless E-commerce just released it's 2.0 version\"]\n",
      "\n",
      "\n",
      "[11, 18, 1335, 8]\n",
      "\n",
      "\n",
      "[0, 0, 0, 0]\n",
      "\n",
      "\n",
      "[False, False, False, False]\n"
     ]
    }
   ],
   "source": [
    "print(user_id[:4]);print('\\n')\n",
    "print(Title[:4]);print('\\n')\n",
    "print(ups[:4]);print('\\n')\n",
    "print(downs[:4]);print('\\n')\n",
    "print(visited[:4])"
   ]
  },
  {
   "cell_type": "code",
   "execution_count": 63,
   "metadata": {},
   "outputs": [
    {
     "data": {
      "text/html": [
       "<div>\n",
       "<style>\n",
       "    .dataframe thead tr:only-child th {\n",
       "        text-align: right;\n",
       "    }\n",
       "\n",
       "    .dataframe thead th {\n",
       "        text-align: left;\n",
       "    }\n",
       "\n",
       "    .dataframe tbody tr th {\n",
       "        vertical-align: top;\n",
       "    }\n",
       "</style>\n",
       "<table border=\"1\" class=\"dataframe\">\n",
       "  <thead>\n",
       "    <tr style=\"text-align: right;\">\n",
       "      <th></th>\n",
       "      <th>Subreddit</th>\n",
       "      <th>Title</th>\n",
       "      <th>ups</th>\n",
       "      <th>Downs</th>\n",
       "      <th>Visited?</th>\n",
       "    </tr>\n",
       "  </thead>\n",
       "  <tbody>\n",
       "    <tr>\n",
       "      <th>0</th>\n",
       "      <td>9o5w2z</td>\n",
       "      <td>r/Python official Job Board</td>\n",
       "      <td>11</td>\n",
       "      <td>0</td>\n",
       "      <td>False</td>\n",
       "    </tr>\n",
       "    <tr>\n",
       "      <th>1</th>\n",
       "      <td>9so82g</td>\n",
       "      <td>What's everyone working on this week?</td>\n",
       "      <td>18</td>\n",
       "      <td>0</td>\n",
       "      <td>False</td>\n",
       "    </tr>\n",
       "    <tr>\n",
       "      <th>2</th>\n",
       "      <td>9t3ko5</td>\n",
       "      <td>My Halloween Facepaint - Scary huh?</td>\n",
       "      <td>1335</td>\n",
       "      <td>0</td>\n",
       "      <td>False</td>\n",
       "    </tr>\n",
       "    <tr>\n",
       "      <th>3</th>\n",
       "      <td>9tbe7o</td>\n",
       "      <td>Saleor GraphQL-first Headless E-commerce just ...</td>\n",
       "      <td>8</td>\n",
       "      <td>0</td>\n",
       "      <td>False</td>\n",
       "    </tr>\n",
       "    <tr>\n",
       "      <th>4</th>\n",
       "      <td>9tb4lj</td>\n",
       "      <td>Python GUI options</td>\n",
       "      <td>3</td>\n",
       "      <td>0</td>\n",
       "      <td>False</td>\n",
       "    </tr>\n",
       "  </tbody>\n",
       "</table>\n",
       "</div>"
      ],
      "text/plain": [
       "  Subreddit                                              Title   ups  Downs  \\\n",
       "0    9o5w2z                        r/Python official Job Board    11      0   \n",
       "1    9so82g              What's everyone working on this week?    18      0   \n",
       "2    9t3ko5                My Halloween Facepaint - Scary huh?  1335      0   \n",
       "3    9tbe7o  Saleor GraphQL-first Headless E-commerce just ...     8      0   \n",
       "4    9tb4lj                                 Python GUI options     3      0   \n",
       "\n",
       "   Visited?  \n",
       "0     False  \n",
       "1     False  \n",
       "2     False  \n",
       "3     False  \n",
       "4     False  "
      ]
     },
     "execution_count": 63,
     "metadata": {},
     "output_type": "execute_result"
    }
   ],
   "source": [
    "import pandas as pd    \n",
    "df = pd.DataFrame(\n",
    "    {'Subreddit': user_id,\n",
    "     'Title': Title,\n",
    "     'ups': ups,\n",
    "     'Downs': downs,\n",
    "     'Visited?': visited,\n",
    "    })\n",
    "cols=['Subreddit','Title','ups','Downs','Visited?']\n",
    "df=df[cols]\n",
    "df.head()"
   ]
  },
  {
   "cell_type": "code",
   "execution_count": 69,
   "metadata": {
    "collapsed": true
   },
   "outputs": [],
   "source": [
    "from pandas import ExcelWriter\n",
    "import json\n",
    "df.to_csv('outputs/Reddit.csv')\n",
    "df.to_csv('outputs/Reddit.txt')\n",
    "\n",
    "writer = ExcelWriter('outputs/Reddit.xlsx')\n",
    "df.to_excel(writer,'Sheet1')\n",
    "writer.save()\n",
    "\n",
    "df.to_json('outputs/Reddit.json')"
   ]
  },
  {
   "cell_type": "code",
   "execution_count": null,
   "metadata": {
    "collapsed": true
   },
   "outputs": [],
   "source": []
  }
 ],
 "metadata": {
  "kernelspec": {
   "display_name": "Python 3",
   "language": "python",
   "name": "python3"
  },
  "language_info": {
   "codemirror_mode": {
    "name": "ipython",
    "version": 3
   },
   "file_extension": ".py",
   "mimetype": "text/x-python",
   "name": "python",
   "nbconvert_exporter": "python",
   "pygments_lexer": "ipython3",
   "version": "3.6.3"
  }
 },
 "nbformat": 4,
 "nbformat_minor": 2
}
